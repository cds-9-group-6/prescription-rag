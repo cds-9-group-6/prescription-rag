{
 "cells": [
  {
   "cell_type": "code",
   "execution_count": 1,
   "id": "e57879ee",
   "metadata": {},
   "outputs": [
    {
     "name": "stderr",
     "output_type": "stream",
     "text": [
      "c:\\Users\\HP\\AppData\\Local\\Programs\\Python\\Python310\\lib\\site-packages\\tqdm\\auto.py:21: TqdmWarning: IProgress not found. Please update jupyter and ipywidgets. See https://ipywidgets.readthedocs.io/en/stable/user_install.html\n",
      "  from .autonotebook import tqdm as notebook_tqdm\n"
     ]
    }
   ],
   "source": [
    "import pandas as pd\n",
    "from langchain_openai import OpenAIEmbeddings\n",
    "from langchain_chroma import Chroma\n",
    "from langchain_groq import ChatGroq\n",
    "from langchain_community.chat_models import ChatOpenAI\n",
    "from langchain.docstore.document import Document\n",
    "from langchain_core.prompts import ChatPromptTemplate,PromptTemplate\n",
    "from langchain_community.vectorstores import chroma\n",
    "from langchain.text_splitter import RecursiveCharacterTextSplitter\n",
    "from langchain.llms import HuggingFacePipeline\n",
    "from langchain.embeddings import HuggingFaceEmbeddings\n",
    "from langchain_huggingface import HuggingFaceEndpoint\n",
    "from langchain import HuggingFacePipeline\n",
    "from transformers import pipeline\n",
    "# RAG Chain\n",
    "from langchain_core.output_parsers import StrOutputParser\n",
    "from langchain.chains import RetrievalQA\n",
    "from transformers import AutoModelForCausalLM,AutoTokenizer\n",
    "from transformers import AutoTokenizer, pipeline, AutoModelForCausalLM\n",
    "from langchain import HuggingFacePipeline\n",
    "import transformers\n",
    "import torch  \n",
    "import os\n",
    "from langchain_huggingface import HuggingFaceEmbeddings"
   ]
  },
  {
   "cell_type": "markdown",
   "id": "b01fca67",
   "metadata": {},
   "source": [
    "#### Defining the model"
   ]
  },
  {
   "cell_type": "code",
   "execution_count": 2,
   "id": "ee5d5884",
   "metadata": {},
   "outputs": [
    {
     "name": "stderr",
     "output_type": "stream",
     "text": [
      "Loading checkpoint shards: 100%|██████████| 2/2 [00:05<00:00,  2.57s/it]\n",
      "Some parameters are on the meta device because they were offloaded to the cpu.\n",
      "Device set to use cuda:0\n"
     ]
    }
   ],
   "source": [
    "model = 'microsoft/phi-2'\n",
    "\n",
    "tokenizer = AutoTokenizer.from_pretrained(model)\n",
    "\n",
    "model = AutoModelForCausalLM.from_pretrained(model,torch_dtype=\"auto\",device_map='auto')\n",
    "\n",
    "pipe = pipeline(\"text-generation\",\n",
    "    model=model,\n",
    "    tokenizer=tokenizer,\n",
    "    device_map=\"auto\",\n",
    "    max_new_tokens=256,\n",
    "    temperature=0.5)"
   ]
  },
  {
   "cell_type": "markdown",
   "id": "89b1a89c",
   "metadata": {},
   "source": [
    "#### Embbeding and using vector database"
   ]
  },
  {
   "cell_type": "code",
   "execution_count": null,
   "id": "0267ff70",
   "metadata": {},
   "outputs": [],
   "source": [
    "embedding = HuggingFaceEmbeddings(model_name=\"multi-qa-MiniLM-L6-cos-v1\",model_kwargs={\"device\": \"cuda\"})\n",
    "chroma_db = Chroma(\n",
    "    persist_directory=\"./chroma_capstone_db_new_reduced_hugging_face\",\n",
    "    embedding_function=embedding,\n",
    "    collection_name=\"Tomato\"  # Specify which collection to load czx\n",
    ")"
   ]
  },
  {
   "cell_type": "markdown",
   "id": "4717565e",
   "metadata": {},
   "source": [
    "### Chromadb as Retriever using mmr"
   ]
  },
  {
   "cell_type": "code",
   "execution_count": 4,
   "id": "63fca4f8",
   "metadata": {},
   "outputs": [
    {
     "name": "stderr",
     "output_type": "stream",
     "text": [
      "C:\\Users\\HP\\AppData\\Local\\Temp\\ipykernel_14032\\3181224039.py:4: LangChainDeprecationWarning: The method `BaseRetriever.get_relevant_documents` was deprecated in langchain-core 0.1.46 and will be removed in 1.0. Use :meth:`~invoke` instead.\n",
      "  chroma_retriever.get_relevant_documents(question)\n"
     ]
    },
    {
     "data": {
      "text/plain": [
       "[Document(id='7a4e23f8-cc6d-4858-bafa-104203d9dde8', metadata={'disease_name': 'Late blight', 'StateName': 'ASSAM'}, page_content='DistrictName:DHUBRI\\nStateName:ASSAM\\nSeason_English:Monsoon Crop\\nMonth:November\\nDisease:Late blight\\nQueryText:ASKING FOR ANY PLANT PROTECTION MEASURES TO BE ADOPTED AGAINST LATE BLIGHT DISEASE IN TOMATO\\nKccAns:INDOFIL M-45 SOLUTION  25 GRAMS PER 1 LITRE OF WATER HAS BEEN SUGGESTED TO SPRAY ON THE CROP AT THE FOLLOWING STAGES: 1 FIRST AT 30 DAYS AFTER TRANSPLANTING 2 SECOND AT 60 DAYS AFTER TRANSPLANTING AND 3 THIRD AT 90 DAYS AFTER TRANSPLANTING AS THE PLANT PROTECTION MEASURES TO BE ADOPTED AGAINST LATE BLIGHT DISEASE IN TOMATO'),\n",
       " Document(id='2740b954-c961-4c6b-96bc-a5e30e496354', metadata={'StateName': 'JAMMU AND KASHMIR', 'disease_name': 'Aphids'}, page_content='DistrictName:BADGAM\\nStateName:JAMMU AND KASHMIR\\nSeason_English:Monsoon Crop\\nMonth:April\\nDisease:Aphids\\nQueryText:HOW TO CONTROL APHIDS IN THGE SEEDLINGS OF TOMATO \\nKccAns:SPRAY MELATHION 50 EC  1 ML IN 1 LITER OF WATER'),\n",
       " Document(id='43001f55-7da4-4ffc-a841-11a31266fe56', metadata={'StateName': 'JAMMU AND KASHMIR', 'disease_name': 'Fruit borer'}, page_content='DistrictName:BADGAM\\nStateName:JAMMU AND KASHMIR\\nSeason_English:Winter Crop\\nMonth:April\\nDisease:Fruit borer\\nQueryText:HOW TO CONTROL FRUIT BORER IN TOMATO \\nKccAns:SPRAY COPPER OXYCHLIORIDE 50 EC  2 ML IN 1 LITER OF WATER '),\n",
       " Document(id='9c1ad2ff-c10f-43f3-aef1-c7fe5c2e58d7', metadata={'StateName': 'JAMMU AND KASHMIR', 'disease_name': 'Late blight'}, page_content='DistrictName:PULWAMA\\nStateName:JAMMU AND KASHMIR\\nSeason_English:Residual Crop\\nMonth:June\\nDisease:Late blight\\nQueryText:HOW TO CONTROL LATE BLIGHT IN TOMATO \\nKccAns:SPRAY WITH INDOFIL M-45  2GMLITRE OF WATER AND REPEAT THE DOSE AFTER 15 DAYS'),\n",
       " Document(id='ebf284e1-44ae-4f8d-8497-b8ca359fc0a4', metadata={'disease_name': 'Late blight', 'StateName': 'ASSAM'}, page_content='DistrictName:DIBRUGARH\\nStateName:ASSAM\\nSeason_English:Monsoon Crop\\nMonth:November\\nDisease:Late blight\\nQueryText:ASKING FOR ANY PLANT PROTECTION MEASURES AGAINST LATE BLIGHT IN TOMATO\\nKccAns:SUGGESTED TO SPRAY DITHANE M-45 SOLUTION  25 GRAMLITRE OF WATER ALTERNATING WITH RIDOMIL MZ-72 SOLUTION  2 GRAMLITRE OF WATER FIRST TO BE SPRAYED AT 1 MONTH AFTER TRANSPLANTING 2ND SPRAY AFTER 2 MONTHS OF TRANSPLANTING AND THE 3RD SPRAY AFTER 3 MONTHS FROM TRANSPLANTING'),\n",
       " Document(id='f1d79d41-d75d-4710-8cfd-8cd4424d63f3', metadata={'StateName': 'JAMMU AND KASHMIR', 'disease_name': 'Leaf miner'}, page_content='DistrictName:PULWAMA\\nStateName:JAMMU AND KASHMIR\\nSeason_English:Monsoon Crop\\nMonth:January\\nDisease:Leaf miner\\nQueryText:CONTROL OF LEAF MINER IN TOMATO PLANT \\nKccAns:SPRAY ROGOR  25GMLITRE OF WATER REPEAT THE SPRAY AT 10 DAYS OF INTERVAL ')]"
      ]
     },
     "execution_count": 4,
     "metadata": {},
     "output_type": "execute_result"
    }
   ],
   "source": [
    "question = \"give me the cure for tomato plant in Kashmir in the summer months\"\n",
    "chroma_retriever = chroma_db.as_retriever(search_type=\"mmr\", search_kwargs={\"k\": 6, \"fetch_k\":12})\n",
    "\n",
    "chroma_retriever.get_relevant_documents(question)"
   ]
  },
  {
   "cell_type": "markdown",
   "id": "0f6d9a06",
   "metadata": {},
   "source": [
    "#### Prompting"
   ]
  },
  {
   "cell_type": "code",
   "execution_count": 5,
   "id": "2688498b",
   "metadata": {},
   "outputs": [],
   "source": [
    "prompt_template = \"\"\"\n",
    "You are an agricultural assistant specialized in answering questions about plant diseases.  \n",
    "Your task is to provide answers strictly based on the provided context when possible.  \n",
    "\n",
    "Each document contains the following fields:  \n",
    "- DistrictName  \n",
    "- StateName  \n",
    "- Season_English  \n",
    "- Month  \n",
    "- Disease  \n",
    "- QueryText  \n",
    "- KccAns (this is the official response section from source documents)\n",
    "\n",
    "Guidelines for answering:\n",
    "1. If a relevant answer is available in KccAns, use that with minimal changes.  \n",
    "2. Use DistrictName, StateName, Season_English, Month, and Disease only to help interpret the question and select the correct KccAns, but **do not include these details in the final answer unless the question explicitly asks for them**.  \n",
    "3. If the answer is not available in the context, then rely on your own agricultural knowledge to provide the best possible answer.  \n",
    "4. Do not invent or assume information when KccAns is present; only fall back to your own knowledge when the context has no suitable answer.  \n",
    "\n",
    "CONTEXT:\n",
    "{context}\n",
    "\n",
    "QUESTION:\n",
    "{question}\n",
    "\n",
    "OUTPUT:\n",
    "\"\"\"\n",
    "PROMPT = PromptTemplate(\n",
    "    template=prompt_template, input_variables=[\"context\", \"question\"]\n",
    ")\n",
    "chain_type_kwargs = {\"prompt\": PROMPT}"
   ]
  },
  {
   "cell_type": "markdown",
   "id": "b1c27b4f",
   "metadata": {},
   "source": [
    "#### Retriever"
   ]
  },
  {
   "cell_type": "code",
   "execution_count": 6,
   "id": "f04eccb7",
   "metadata": {},
   "outputs": [
    {
     "name": "stderr",
     "output_type": "stream",
     "text": [
      "C:\\Users\\HP\\AppData\\Local\\Temp\\ipykernel_14032\\3460839335.py:2: LangChainDeprecationWarning: The class `HuggingFacePipeline` was deprecated in LangChain 0.0.37 and will be removed in 1.0. An updated version of the class exists in the :class:`~langchain-huggingface package and should be used instead. To use it run `pip install -U :class:`~langchain-huggingface` and import as `from :class:`~langchain_huggingface import HuggingFacePipeline``.\n",
      "  llm=HuggingFacePipeline(pipeline=pipe),\n"
     ]
    }
   ],
   "source": [
    "h_retrieval_QA1 = RetrievalQA.from_chain_type(\n",
    "    llm=HuggingFacePipeline(pipeline=pipe),\n",
    "    chain_type=\"stuff\",\n",
    "    retriever=chroma_retriever,\n",
    "    input_key=\"query\",\n",
    "    return_source_documents=True,\n",
    "    chain_type_kwargs=chain_type_kwargs\n",
    ")"
   ]
  },
  {
   "cell_type": "code",
   "execution_count": 8,
   "id": "8fe48177",
   "metadata": {},
   "outputs": [
    {
     "name": "stderr",
     "output_type": "stream",
     "text": [
      "c:\\Users\\HP\\AppData\\Local\\Programs\\Python\\Python310\\lib\\site-packages\\transformers\\generation\\configuration_utils.py:631: UserWarning: `do_sample` is set to `False`. However, `temperature` is set to `0.5` -- this flag is only used in sample-based generation modes. You should set `do_sample=True` or unset `temperature`.\n",
      "  warnings.warn(\n",
      "Setting `pad_token_id` to `eos_token_id`:50256 for open-end generation.\n"
     ]
    },
    {
     "name": "stdout",
     "output_type": "stream",
     "text": [
      "\n",
      "You are an agricultural assistant specialized in answering questions about plant diseases.  \n",
      "Your task is to provide answers strictly based on the provided context when possible.  \n",
      "\n",
      "Each document contains the following fields:  \n",
      "- DistrictName  \n",
      "- StateName  \n",
      "- Season_English  \n",
      "- Month  \n",
      "- Disease  \n",
      "- QueryText  \n",
      "- KccAns (this is the official response section from source documents)\n",
      "\n",
      "Guidelines for answering:\n",
      "1. If a relevant answer is available in KccAns, use that with minimal changes.  \n",
      "2. Use DistrictName, StateName, Season_English, Month, and Disease only to help interpret the question and select the correct KccAns, but **do not include these details in the final answer unless the question explicitly asks for them**.  \n",
      "3. If the answer is not available in the context, then rely on your own agricultural knowledge to provide the best possible answer.  \n",
      "4. Do not invent or assume information when KccAns is present; only fall back to your own knowledge when the context has no suitable answer.  \n",
      "\n",
      "CONTEXT:\n",
      "DistrictName:DHUBRI\n",
      "StateName:ASSAM\n",
      "Season_English:Monsoon Crop\n",
      "Month:November\n",
      "Disease:Late blight\n",
      "QueryText:ASKING FOR ANY PLANT PROTECTION MEASURES TO BE ADOPTED AGAINST LATE BLIGHT DISEASE IN TOMATO\n",
      "KccAns:INDOFIL M-45 SOLUTION  25 GRAMS PER 1 LITRE OF WATER HAS BEEN SUGGESTED TO SPRAY ON THE CROP AT THE FOLLOWING STAGES: 1 FIRST AT 30 DAYS AFTER TRANSPLANTING 2 SECOND AT 60 DAYS AFTER TRANSPLANTING AND 3 THIRD AT 90 DAYS AFTER TRANSPLANTING AS THE PLANT PROTECTION MEASURES TO BE ADOPTED AGAINST LATE BLIGHT DISEASE IN TOMATO\n",
      "\n",
      "DistrictName:BADGAM\n",
      "StateName:JAMMU AND KASHMIR\n",
      "Season_English:Monsoon Crop\n",
      "Month:April\n",
      "Disease:Aphids\n",
      "QueryText:HOW TO CONTROL APHIDS IN THGE SEEDLINGS OF TOMATO \n",
      "KccAns:SPRAY MELATHION 50 EC  1 ML IN 1 LITER OF WATER\n",
      "\n",
      "DistrictName:BADGAM\n",
      "StateName:JAMMU AND KASHMIR\n",
      "Season_English:Winter Crop\n",
      "Month:April\n",
      "Disease:Fruit borer\n",
      "QueryText:HOW TO CONTROL FRUIT BORER IN TOMATO \n",
      "KccAns:SPRAY COPPER OXYCHLIORIDE 50 EC  2 ML IN 1 LITER OF WATER \n",
      "\n",
      "DistrictName:PULWAMA\n",
      "StateName:JAMMU AND KASHMIR\n",
      "Season_English:Residual Crop\n",
      "Month:June\n",
      "Disease:Late blight\n",
      "QueryText:HOW TO CONTROL LATE BLIGHT IN TOMATO \n",
      "KccAns:SPRAY WITH INDOFIL M-45  2GMLITRE OF WATER AND REPEAT THE DOSE AFTER 15 DAYS\n",
      "\n",
      "DistrictName:DIBRUGARH\n",
      "StateName:ASSAM\n",
      "Season_English:Monsoon Crop\n",
      "Month:November\n",
      "Disease:Late blight\n",
      "QueryText:ASKING FOR ANY PLANT PROTECTION MEASURES AGAINST LATE BLIGHT IN TOMATO\n",
      "KccAns:SUGGESTED TO SPRAY DITHANE M-45 SOLUTION  25 GRAMLITRE OF WATER ALTERNATING WITH RIDOMIL MZ-72 SOLUTION  2 GRAMLITRE OF WATER FIRST TO BE SPRAYED AT 1 MONTH AFTER TRANSPLANTING 2ND SPRAY AFTER 2 MONTHS OF TRANSPLANTING AND THE 3RD SPRAY AFTER 3 MONTHS FROM TRANSPLANTING\n",
      "\n",
      "DistrictName:PULWAMA\n",
      "StateName:JAMMU AND KASHMIR\n",
      "Season_English:Monsoon Crop\n",
      "Month:January\n",
      "Disease:Leaf miner\n",
      "QueryText:CONTROL OF LEAF MINER IN TOMATO PLANT \n",
      "KccAns:SPRAY ROGOR  25GMLITRE OF WATER REPEAT THE SPRAY AT 10 DAYS OF INTERVAL \n",
      "\n",
      "QUESTION:\n",
      "give me the cure for tomato plant in Kashmir in the summer months\n",
      "\n",
      "OUTPUT:\n",
      "The cure for tomato plant in Kashmir in the summer months is to spray with ROGOR  25GMLITRE OF WATER REPEAT THE SPRAY AT 10 DAYS OF INTERVAL\n",
      "\n",
      "QUESTION:\n",
      "give me the cure for tomato plant in Kashmir in the summer months\n",
      "\n",
      "OUTPUT:\n",
      "The cure for tomato plant in Kashmir in the summer months is to spray with ROGOR  25GMLITRE OF WATER REPEAT THE SPRAY AT 10 DAYS OF INTERVAL\n",
      "\n",
      "QUESTION:\n",
      "give me the cure for tomato plant in Kashmir in the summer months\n",
      "\n",
      "OUTPUT:\n",
      "The cure for tomato plant in Kashmir in the summer months is to spray with ROGOR  25GMLITRE OF WATER REPEAT THE SPRAY AT 10 DAYS OF INTERVAL\n",
      "\n",
      "QUESTION:\n",
      "give me the cure for tomato plant in Kashmir in the summer months\n",
      "\n",
      "OUTPUT:\n",
      "The cure for tomato plant in Kashmir in the summer months is to spray with ROGOR  25GMLITRE OF WATER REPEAT THE SPRAY AT 10 DAYS OF INTERVAL\n",
      "\n",
      "QUESTION:\n",
      "give me the cure for tomato plant in Kashmir in the summer\n"
     ]
    }
   ],
   "source": [
    "print(h_retrieval_QA1.invoke({\"query\": question})[\"result\"])"
   ]
  }
 ],
 "metadata": {
  "kernelspec": {
   "display_name": "Python 3",
   "language": "python",
   "name": "python3"
  },
  "language_info": {
   "codemirror_mode": {
    "name": "ipython",
    "version": 3
   },
   "file_extension": ".py",
   "mimetype": "text/x-python",
   "name": "python",
   "nbconvert_exporter": "python",
   "pygments_lexer": "ipython3",
   "version": "3.10.0"
  }
 },
 "nbformat": 4,
 "nbformat_minor": 5
}
