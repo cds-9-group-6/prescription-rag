{
 "cells": [
  {
   "cell_type": "code",
   "execution_count": 1,
   "id": "e57879ee",
   "metadata": {},
   "outputs": [
    {
     "name": "stderr",
     "output_type": "stream",
     "text": [
      "c:\\Users\\HP\\AppData\\Local\\Programs\\Python\\Python310\\lib\\site-packages\\tqdm\\auto.py:21: TqdmWarning: IProgress not found. Please update jupyter and ipywidgets. See https://ipywidgets.readthedocs.io/en/stable/user_install.html\n",
      "  from .autonotebook import tqdm as notebook_tqdm\n"
     ]
    }
   ],
   "source": [
    "import pandas as pd\n",
    "from langchain_openai import OpenAIEmbeddings\n",
    "from langchain_chroma import Chroma\n",
    "from langchain_groq import ChatGroq\n",
    "from langchain_community.chat_models import ChatOpenAI\n",
    "from langchain.docstore.document import Document\n",
    "from langchain_core.prompts import ChatPromptTemplate,PromptTemplate\n",
    "from langchain_community.vectorstores import chroma\n",
    "from langchain.text_splitter import RecursiveCharacterTextSplitter\n",
    "from langchain.llms import HuggingFacePipeline\n",
    "from langchain.embeddings import HuggingFaceEmbeddings\n",
    "from langchain_huggingface import HuggingFaceEndpoint\n",
    "from langchain import HuggingFacePipeline\n",
    "from transformers import pipeline\n",
    "# RAG Chain\n",
    "from langchain_core.output_parsers import StrOutputParser\n",
    "from langchain.chains import RetrievalQA\n",
    "from transformers import AutoModelForCausalLM,AutoTokenizer\n",
    "from transformers import AutoTokenizer, pipeline, AutoModelForCausalLM\n",
    "from langchain import HuggingFacePipeline\n",
    "import transformers\n",
    "import torch  \n",
    "import os\n",
    "from langchain_huggingface import HuggingFaceEmbeddings\n",
    "from langchain_community.chat_models import ChatOllama\n",
    "from dotenv import load_dotenv\n"
   ]
  },
  {
   "cell_type": "markdown",
   "id": "b01fca67",
   "metadata": {},
   "source": [
    "#### Defining the model"
   ]
  },
  {
   "cell_type": "code",
   "execution_count": 2,
   "id": "2d05bd3b",
   "metadata": {},
   "outputs": [
    {
     "name": "stderr",
     "output_type": "stream",
     "text": [
      "C:\\Users\\HP\\AppData\\Local\\Temp\\ipykernel_25476\\1625332078.py:1: LangChainDeprecationWarning: The class `ChatOllama` was deprecated in LangChain 0.3.1 and will be removed in 1.0.0. An updated version of the class exists in the :class:`~langchain-ollama package and should be used instead. To use it run `pip install -U :class:`~langchain-ollama` and import as `from :class:`~langchain_ollama import ChatOllama``.\n",
      "  llm = ChatOllama(\n"
     ]
    }
   ],
   "source": [
    "llm = ChatOllama(\n",
    "            temperature=1, \n",
    "            model=\"llama3.1:8b\",\n",
    "            max_tokens=600,\n",
    "            top_p=0.90,\n",
    "        #     frequency_penalty=1,\n",
    "        #     presence_penalty=1,\n",
    "    )"
   ]
  },
  {
   "cell_type": "code",
   "execution_count": 3,
   "id": "8e7fb104",
   "metadata": {},
   "outputs": [
    {
     "data": {
      "text/plain": [
       "AIMessage(content=\"Here are a few options to get us started:\\n\\n1. **Word association game**: I'll start with a word, and you respond with a word that's associated with it.\\n2. **20 Questions**: You think of an object, and I try to guess what it is by asking yes or no questions.\\n3. **Hangman**: I'll think of a word or phrase, and you try to guess it by guessing letters.\\n4. **Trivia**: We can play a quick trivia game on a topic of your choice (e.g., history, science, sports, music).\\n5. **Word scrambles**: I'll scramble a word, and you try to unscramble it.\\n\\nWhich one would you like to do? Or feel free to suggest something else!\", additional_kwargs={}, response_metadata={'model': 'llama3.1:8b', 'created_at': '2025-09-22T13:44:11.5409089Z', 'message': {'role': 'assistant', 'content': ''}, 'done_reason': 'stop', 'done': True, 'total_duration': 8581366400, 'load_duration': 75631000, 'prompt_eval_count': 12, 'prompt_eval_duration': 312913600, 'eval_count': 158, 'eval_duration': 8191027200}, id='run--4def30ac-6b42-421e-8521-f7ba659ae881-0')"
      ]
     },
     "execution_count": 3,
     "metadata": {},
     "output_type": "execute_result"
    }
   ],
   "source": [
    "llm = ChatOllama(model=\"llama3.1:8b\", temperature=0.5)\n",
    "llm.invoke(\"Warm up\") "
   ]
  },
  {
   "cell_type": "code",
   "execution_count": 4,
   "id": "ee5d5884",
   "metadata": {},
   "outputs": [],
   "source": [
    "# model = 'microsoft/phi-2'\n",
    "\n",
    "# tokenizer = AutoTokenizer.from_pretrained(model)\n",
    "\n",
    "# model = AutoModelForCausalLM.from_pretrained(model,torch_dtype=\"auto\",device_map='auto')\n",
    "\n",
    "# pipe = pipeline(\"text-generation\",\n",
    "#     model=model,\n",
    "#     tokenizer=tokenizer,\n",
    "#     device_map=\"auto\",\n",
    "#     max_new_tokens=256,\n",
    "#     temperature=0.5)"
   ]
  },
  {
   "cell_type": "markdown",
   "id": "89b1a89c",
   "metadata": {},
   "source": [
    "#### Embbeding and using vector database"
   ]
  },
  {
   "cell_type": "code",
   "execution_count": 5,
   "id": "0267ff70",
   "metadata": {},
   "outputs": [
    {
     "name": "stderr",
     "output_type": "stream",
     "text": [
      "C:\\Users\\HP\\AppData\\Local\\Temp\\ipykernel_25476\\2021234551.py:4: LangChainDeprecationWarning: The class `HuggingFaceEmbeddings` was deprecated in LangChain 0.2.2 and will be removed in 1.0. An updated version of the class exists in the :class:`~langchain-huggingface package and should be used instead. To use it run `pip install -U :class:`~langchain-huggingface` and import as `from :class:`~langchain_huggingface import HuggingFaceEmbeddings``.\n",
      "  embedding = HuggingFaceEmbeddings(model_name=\"multi-qa-MiniLM-L6-cos-v1\")\n"
     ]
    },
    {
     "name": "stdout",
     "output_type": "stream",
     "text": [
      "Collection Tomato loaded. Number of documents: 4207\n"
     ]
    }
   ],
   "source": [
    "from langchain_chroma import Chroma\n",
    "from langchain_community.embeddings import HuggingFaceEmbeddings\n",
    "\n",
    "embedding = HuggingFaceEmbeddings(model_name=\"multi-qa-MiniLM-L6-cos-v1\")\n",
    "persist_directory = \"./chroma_capstone_db_new_reduced_hugging_face\"\n",
    "\n",
    "# Try accessing known collection\n",
    "collection_name = \"Tomato\"  # Replace with any collection you expect\n",
    "chroma_db = Chroma(\n",
    "    collection_name=collection_name,\n",
    "    persist_directory=persist_directory,\n",
    "    embedding_function=embedding\n",
    ")\n",
    "\n",
    "print(f\"Collection {collection_name} loaded. Number of documents:\", chroma_db._collection.count())"
   ]
  },
  {
   "cell_type": "markdown",
   "id": "4717565e",
   "metadata": {},
   "source": [
    "### Chromadb as Retriever using mmr"
   ]
  },
  {
   "cell_type": "code",
   "execution_count": 6,
   "id": "63fca4f8",
   "metadata": {},
   "outputs": [
    {
     "name": "stderr",
     "output_type": "stream",
     "text": [
      "C:\\Users\\HP\\AppData\\Local\\Temp\\ipykernel_25476\\1855896669.py:31: LangChainDeprecationWarning: The method `BaseRetriever.get_relevant_documents` was deprecated in langchain-core 0.1.46 and will be removed in 1.0. Use :meth:`~invoke` instead.\n",
      "  chroma_retriever.get_relevant_documents(question)\n"
     ]
    },
    {
     "data": {
      "text/plain": [
       "[Document(id='e49e4c69-b0f3-4757-a4ac-8a42339ecdab', metadata={'StateName': 'ASSAM', 'disease_name': 'Aphids'}, page_content='Crop:Tomato\\nDisease:Aphids\\nStateName:ASSAM\\nSeason_English:nan\\nMonth:January\\nQueryText:ASKING ABOUT CONTROL OF APHIDS\\nKccAns:APPLY  ROGOR   1-2MLLIT OF WATER SPRAY 3 TIMES AT 5 DAYS INTERVALFOR CONTROL OF LATE BLIGHT APPLY RIDOMIL GOLD 2GLIT OF WATER SPRAY 3 TIME AT 5 DAYS INTERVAL'),\n",
       " Document(id='fa88fa51-c230-4bff-8a97-c258c1f07ebc', metadata={'disease_name': 'Aphids', 'StateName': 'ASSAM'}, page_content='Crop:Tomato\\nDisease:Aphids\\nStateName:ASSAM\\nSeason_English:nan\\nMonth:February\\nQueryText:Query regarding plant protection of tomato against aphids\\nKccAns:If infestation is low apply AZADIRACHTIN NEEM KAVACH NEEMOL NEEMEX 2mlL OF WATER If infestation is high apply IMIDACLOPRID  COFIDORMIDAS 2000 2mlL OF WATER 7-10 DAYS INTERVAL'),\n",
       " Document(id='6552196f-9000-413b-a1d8-b763addc134e', metadata={'StateName': 'ASSAM', 'disease_name': 'Aphids'}, page_content='Crop:Tomato\\nDisease:Aphids\\nStateName:ASSAM\\nSeason_English:nan\\nMonth:April\\nQueryText:ASKING ABOUT THE CONTROL OF APHIDS IN TOMATO\\nKccAns:SUGGESTED TO APPLY THE ROGOR 35EC 2ML PER LITRE OF WATER'),\n",
       " Document(id='a3e5b099-195e-4eb0-b3cb-18c9f06c28ae', metadata={'disease_name': 'Aphids', 'StateName': 'ASSAM'}, page_content='Crop:Tomato\\nDisease:Aphids\\nStateName:ASSAM\\nSeason_English:nan\\nMonth:March\\nQueryText:ASKING ABOUT THE CONTROL OF APHIDS\\nKccAns:THIOMETHOXAM OR IMIDACLOPRID  2GML WATER AGAINST APHIDSALSO SOIL DRENCHING WITH BLITOX50 2GML WATER AGAINST DAMPING OFF'),\n",
       " Document(id='449f0d13-0943-4471-9170-d7a5a70d6f74', metadata={'StateName': 'ASSAM', 'disease_name': 'Aphids'}, page_content='Crop:Tomato\\nDisease:Aphids\\nStateName:ASSAM\\nSeason_English:Monsoon Crop\\nMonth:November\\nQueryText:ASKING ABOUT THE CONTROLL MEASURE OF FUNGAL WILT AND APHIDS\\nKccAns:SUGGESTED HIM TO APPLY CAPTAN OR BAVISTIN  ONE TEA SPOON2 LITER OF WATER AND AGAIN TO CONTROLL APHID SUGGESTED HIM TO APPLY ROGOR 35 EC  1 MLLITER OF WATER'),\n",
       " Document(id='e8bb982e-bcb1-42f2-b7e4-353cedfd5822', metadata={'disease_name': 'Aphids', 'StateName': 'ASSAM'}, page_content='Crop:Tomato\\nDisease:Aphids\\nStateName:ASSAM\\nSeason_English:Winter Crop\\nMonth:September\\nQueryText:ASKING ABOUT THE CONTROL MEASURE FOR APHIDS IN TOMAMTO\\nKccAns:RECOMMENDED TO SPRAY ROGOR 35 EC  2 MLLIT WATER')]"
      ]
     },
     "execution_count": 6,
     "metadata": {},
     "output_type": "execute_result"
    }
   ],
   "source": [
    "question =  \"give me the cure for Tomato plant for Aphids disease\"\n",
    "chroma_retriever = chroma_db.as_retriever(\n",
    "    search_type=\"mmr\",\n",
    "    search_kwargs={\n",
    "        \"k\": 6,\n",
    "        \"fetch_k\": 12,\n",
    "        \"filter\": {\n",
    "            \"$and\": [\n",
    "                {\"StateName\": {\"$eq\": \"ASSAM\"}},\n",
    "                {\"disease_name\": {\"$eq\": \"Aphids\"}}\n",
    "            ]\n",
    "        }\n",
    "    }\n",
    ")\n",
    "\n",
    "# chroma_retriever = chroma_db.as_retriever(\n",
    "#     search_type=\"mmr\",\n",
    "#     search_kwargs={\n",
    "#         \"k\": 6,\n",
    "#         \"fetch_k\": 12,\n",
    "#         # \"filter\": {\n",
    "#         #     \"$and\": [\n",
    "#         #         {\"StateName\": {\"$eq\": \"ASSAM\"}},\n",
    "#         #         {\"disease_name\": {\"$eq\": \"Aphids\"}}\n",
    "#         #     ]\n",
    "#         # }\n",
    "#     }\n",
    "# )\n",
    "\n",
    "\n",
    "chroma_retriever.get_relevant_documents(question)"
   ]
  },
  {
   "cell_type": "markdown",
   "id": "0f6d9a06",
   "metadata": {},
   "source": [
    "#### Prompting"
   ]
  },
  {
   "cell_type": "code",
   "execution_count": 7,
   "id": "2688498b",
   "metadata": {},
   "outputs": [],
   "source": [
    "prompt_template = \"\"\"\n",
    "You are an agricultural assistant specialized in providing answers about plant diseases.\n",
    "\n",
    "Instructions:\n",
    "1. Use the provided CONTEXT from the documents to answer the QUESTION. This context contains official guidance for the specific crop.\n",
    "2. The CONTEXT may include: DistrictName, StateName, Season_English, Month, Disease, QueryText, and KccAns (official answer).\n",
    "3. Always prioritize KccAns when it is available. Do not invent or assume details if KccAns provides the answer.\n",
    "4. Use DistrictName, StateName, Season_English, Month, and Disease only to understand and interpret the question. Do not include them in your answer unless explicitly requested.\n",
    "5. If the CONTEXT has no relevant information, you may provide general agricultural advice.\n",
    "\n",
    "CONTENTS FROM RAG:\n",
    "{context}\n",
    "\n",
    "QUESTION:\n",
    "{question}\n",
    "\n",
    "ANSWER:\n",
    "\"\"\"\n",
    "PROMPT = PromptTemplate(\n",
    "    template=prompt_template, input_variables=[\"context\", \"question\"]\n",
    ")\n",
    "chain_type_kwargs = {\"prompt\": PROMPT}"
   ]
  },
  {
   "cell_type": "markdown",
   "id": "b1c27b4f",
   "metadata": {},
   "source": [
    "#### Retriever"
   ]
  },
  {
   "cell_type": "code",
   "execution_count": null,
   "id": "c426f800",
   "metadata": {},
   "outputs": [],
   "source": []
  },
  {
   "cell_type": "code",
   "execution_count": 8,
   "id": "f04eccb7",
   "metadata": {},
   "outputs": [],
   "source": [
    "h_retrieval_QA1 = RetrievalQA.from_chain_type(\n",
    "    llm=llm,\n",
    "    chain_type=\"stuff\",\n",
    "    retriever=chroma_retriever,\n",
    "    input_key=\"query\",\n",
    "    return_source_documents=True,\n",
    "    chain_type_kwargs=chain_type_kwargs\n",
    ")"
   ]
  },
  {
   "cell_type": "code",
   "execution_count": 9,
   "id": "8fe48177",
   "metadata": {},
   "outputs": [],
   "source": [
    "output = h_retrieval_QA1.invoke({\"query\": question})"
   ]
  },
  {
   "cell_type": "code",
   "execution_count": 11,
   "id": "30d976b4",
   "metadata": {},
   "outputs": [],
   "source": [
    "result = output[\"result\"]"
   ]
  },
  {
   "cell_type": "code",
   "execution_count": 12,
   "id": "ebf850a2",
   "metadata": {},
   "outputs": [
    {
     "data": {
      "text/plain": [
       "'Since there are multiple entries related to Tomato and Aphids, I will provide the most relevant and specific answer based on the available KccAns.\\n\\nFor Tomato plants affected by Aphids in ASSAM during different months:\\n\\n* In January: No specific guidance is provided for Aphids control.\\n* In February: If infestation is low, apply AZADIRACHTIN NEEM KAVACH NEEMOL NEEMEX 2mlL of water. If infestation is high, apply IMIDACLOPRID COFIDORMIDAS 2000 2mlL of water at 7-10 days interval.\\n* In March: Apply THIOMETHOXAM or IMIDACLOPRID 2GML water against Aphids and also soil drenching with BLITOX50 2GML water against Damping Off (not directly related to Aphids, but mentioned in the same entry).\\n* In April: Suggested to apply ROGOR 35EC 2ML per litre of water.\\n* In November (Monsoon Crop): Apply CAPTAN or BAVISTIN one tea spoon 2 LITER OF WATER for fungal wilt control and ROGOR 35 EC 1 MLLITER OF WATER for Aphids control.\\n\\nSince the question does not specify a particular month, I will provide general guidance based on the most frequently recommended product in the available entries. However, please note that specific conditions like infestation level (low or high) may affect the choice of treatment.\\n\\nBased on the provided KccAns, ROGOR 35EC is recommended for Aphids control in multiple months and seasons. Therefore, I will provide this as a general cure:\\n\\nApply ROGOR 35EC 2ML per litre of water to control Aphids in Tomato plants.'"
      ]
     },
     "execution_count": 12,
     "metadata": {},
     "output_type": "execute_result"
    }
   ],
   "source": [
    "result"
   ]
  },
  {
   "cell_type": "code",
   "execution_count": 14,
   "id": "e9ba06b7",
   "metadata": {},
   "outputs": [
    {
     "data": {
      "text/plain": [
       "[Document(id='e49e4c69-b0f3-4757-a4ac-8a42339ecdab', metadata={'disease_name': 'Aphids', 'StateName': 'ASSAM'}, page_content='Crop:Tomato\\nDisease:Aphids\\nStateName:ASSAM\\nSeason_English:nan\\nMonth:January\\nQueryText:ASKING ABOUT CONTROL OF APHIDS\\nKccAns:APPLY  ROGOR   1-2MLLIT OF WATER SPRAY 3 TIMES AT 5 DAYS INTERVALFOR CONTROL OF LATE BLIGHT APPLY RIDOMIL GOLD 2GLIT OF WATER SPRAY 3 TIME AT 5 DAYS INTERVAL'),\n",
       " Document(id='fa88fa51-c230-4bff-8a97-c258c1f07ebc', metadata={'disease_name': 'Aphids', 'StateName': 'ASSAM'}, page_content='Crop:Tomato\\nDisease:Aphids\\nStateName:ASSAM\\nSeason_English:nan\\nMonth:February\\nQueryText:Query regarding plant protection of tomato against aphids\\nKccAns:If infestation is low apply AZADIRACHTIN NEEM KAVACH NEEMOL NEEMEX 2mlL OF WATER If infestation is high apply IMIDACLOPRID  COFIDORMIDAS 2000 2mlL OF WATER 7-10 DAYS INTERVAL'),\n",
       " Document(id='6552196f-9000-413b-a1d8-b763addc134e', metadata={'disease_name': 'Aphids', 'StateName': 'ASSAM'}, page_content='Crop:Tomato\\nDisease:Aphids\\nStateName:ASSAM\\nSeason_English:nan\\nMonth:April\\nQueryText:ASKING ABOUT THE CONTROL OF APHIDS IN TOMATO\\nKccAns:SUGGESTED TO APPLY THE ROGOR 35EC 2ML PER LITRE OF WATER'),\n",
       " Document(id='a3e5b099-195e-4eb0-b3cb-18c9f06c28ae', metadata={'StateName': 'ASSAM', 'disease_name': 'Aphids'}, page_content='Crop:Tomato\\nDisease:Aphids\\nStateName:ASSAM\\nSeason_English:nan\\nMonth:March\\nQueryText:ASKING ABOUT THE CONTROL OF APHIDS\\nKccAns:THIOMETHOXAM OR IMIDACLOPRID  2GML WATER AGAINST APHIDSALSO SOIL DRENCHING WITH BLITOX50 2GML WATER AGAINST DAMPING OFF'),\n",
       " Document(id='449f0d13-0943-4471-9170-d7a5a70d6f74', metadata={'StateName': 'ASSAM', 'disease_name': 'Aphids'}, page_content='Crop:Tomato\\nDisease:Aphids\\nStateName:ASSAM\\nSeason_English:Monsoon Crop\\nMonth:November\\nQueryText:ASKING ABOUT THE CONTROLL MEASURE OF FUNGAL WILT AND APHIDS\\nKccAns:SUGGESTED HIM TO APPLY CAPTAN OR BAVISTIN  ONE TEA SPOON2 LITER OF WATER AND AGAIN TO CONTROLL APHID SUGGESTED HIM TO APPLY ROGOR 35 EC  1 MLLITER OF WATER'),\n",
       " Document(id='e8bb982e-bcb1-42f2-b7e4-353cedfd5822', metadata={'StateName': 'ASSAM', 'disease_name': 'Aphids'}, page_content='Crop:Tomato\\nDisease:Aphids\\nStateName:ASSAM\\nSeason_English:Winter Crop\\nMonth:September\\nQueryText:ASKING ABOUT THE CONTROL MEASURE FOR APHIDS IN TOMAMTO\\nKccAns:RECOMMENDED TO SPRAY ROGOR 35 EC  2 MLLIT WATER')]"
      ]
     },
     "execution_count": 14,
     "metadata": {},
     "output_type": "execute_result"
    }
   ],
   "source": [
    "output[\"source_documents\"]"
   ]
  },
  {
   "cell_type": "code",
   "execution_count": null,
   "id": "790f0c7c",
   "metadata": {},
   "outputs": [],
   "source": [
    "context = [output.page_content for output in output[\"source_documents\"]]"
   ]
  },
  {
   "cell_type": "code",
   "execution_count": 23,
   "id": "c0d14668",
   "metadata": {},
   "outputs": [
    {
     "data": {
      "text/plain": [
       "['Crop:Tomato\\nDisease:Aphids\\nStateName:ASSAM\\nSeason_English:nan\\nMonth:January\\nQueryText:ASKING ABOUT CONTROL OF APHIDS\\nKccAns:APPLY  ROGOR   1-2MLLIT OF WATER SPRAY 3 TIMES AT 5 DAYS INTERVALFOR CONTROL OF LATE BLIGHT APPLY RIDOMIL GOLD 2GLIT OF WATER SPRAY 3 TIME AT 5 DAYS INTERVAL',\n",
       " 'Crop:Tomato\\nDisease:Aphids\\nStateName:ASSAM\\nSeason_English:nan\\nMonth:February\\nQueryText:Query regarding plant protection of tomato against aphids\\nKccAns:If infestation is low apply AZADIRACHTIN NEEM KAVACH NEEMOL NEEMEX 2mlL OF WATER If infestation is high apply IMIDACLOPRID  COFIDORMIDAS 2000 2mlL OF WATER 7-10 DAYS INTERVAL',\n",
       " 'Crop:Tomato\\nDisease:Aphids\\nStateName:ASSAM\\nSeason_English:nan\\nMonth:April\\nQueryText:ASKING ABOUT THE CONTROL OF APHIDS IN TOMATO\\nKccAns:SUGGESTED TO APPLY THE ROGOR 35EC 2ML PER LITRE OF WATER',\n",
       " 'Crop:Tomato\\nDisease:Aphids\\nStateName:ASSAM\\nSeason_English:nan\\nMonth:March\\nQueryText:ASKING ABOUT THE CONTROL OF APHIDS\\nKccAns:THIOMETHOXAM OR IMIDACLOPRID  2GML WATER AGAINST APHIDSALSO SOIL DRENCHING WITH BLITOX50 2GML WATER AGAINST DAMPING OFF',\n",
       " 'Crop:Tomato\\nDisease:Aphids\\nStateName:ASSAM\\nSeason_English:Monsoon Crop\\nMonth:November\\nQueryText:ASKING ABOUT THE CONTROLL MEASURE OF FUNGAL WILT AND APHIDS\\nKccAns:SUGGESTED HIM TO APPLY CAPTAN OR BAVISTIN  ONE TEA SPOON2 LITER OF WATER AND AGAIN TO CONTROLL APHID SUGGESTED HIM TO APPLY ROGOR 35 EC  1 MLLITER OF WATER',\n",
       " 'Crop:Tomato\\nDisease:Aphids\\nStateName:ASSAM\\nSeason_English:Winter Crop\\nMonth:September\\nQueryText:ASKING ABOUT THE CONTROL MEASURE FOR APHIDS IN TOMAMTO\\nKccAns:RECOMMENDED TO SPRAY ROGOR 35 EC  2 MLLIT WATER']"
      ]
     },
     "execution_count": 23,
     "metadata": {},
     "output_type": "execute_result"
    }
   ],
   "source": [
    "context"
   ]
  },
  {
   "cell_type": "code",
   "execution_count": 15,
   "id": "ab9f34ee",
   "metadata": {},
   "outputs": [],
   "source": [
    "import os\n",
    "from dotenv import load_dotenv\n",
    "\n",
    "load_dotenv()\n",
    "\n",
    "os.environ[\"OPENAI_API_KEY\"] = os.getenv(\"OPENAI_API_KEY\")"
   ]
  },
  {
   "cell_type": "code",
   "execution_count": 16,
   "id": "60bc2ecd",
   "metadata": {},
   "outputs": [
    {
     "name": "stderr",
     "output_type": "stream",
     "text": [
      "C:\\Users\\HP\\AppData\\Local\\Temp\\ipykernel_25476\\819834627.py:1: LangChainDeprecationWarning: The class `ChatOpenAI` was deprecated in LangChain 0.0.10 and will be removed in 1.0. An updated version of the class exists in the :class:`~langchain-openai package and should be used instead. To use it run `pip install -U :class:`~langchain-openai` and import as `from :class:`~langchain_openai import ChatOpenAI``.\n",
      "  evaluator_llm = ChatOpenAI(\n"
     ]
    }
   ],
   "source": [
    "evaluator_llm = ChatOpenAI(\n",
    "    model_name=\"gpt-4\",   # or \"gpt-4-turbo\"\n",
    "    temperature=0,         # deterministic output\n",
    "    openai_api_key=os.environ[\"OPENAI_API_KEY\"]  # optional if set as env variable\n",
    ")"
   ]
  },
  {
   "cell_type": "code",
   "execution_count": 24,
   "id": "d0c3be13",
   "metadata": {},
   "outputs": [
    {
     "data": {
      "text/plain": [
       "0.7333333333333333"
      ]
     },
     "execution_count": 24,
     "metadata": {},
     "output_type": "execute_result"
    }
   ],
   "source": [
    "from ragas.dataset_schema import SingleTurnSample \n",
    "from ragas.metrics import Faithfulness\n",
    "\n",
    "\n",
    "sample = SingleTurnSample(\n",
    "        user_input=question,\n",
    "        response=result,\n",
    "        retrieved_contexts= context\n",
    "    )\n",
    "scorer = Faithfulness(llm=evaluator_llm)\n",
    "await scorer.single_turn_ascore(sample)"
   ]
  },
  {
   "cell_type": "code",
   "execution_count": 25,
   "id": "5d5be35b",
   "metadata": {},
   "outputs": [
    {
     "data": {
      "text/plain": [
       "np.float64(0.8215532579912604)"
      ]
     },
     "execution_count": 25,
     "metadata": {},
     "output_type": "execute_result"
    }
   ],
   "source": [
    "from ragas import SingleTurnSample \n",
    "from ragas.metrics import ResponseRelevancy\n",
    "\n",
    "embedding_model = HuggingFaceEmbeddings(model_name=\"multi-qa-MiniLM-L6-cos-v1\")\n",
    "\n",
    "sample = SingleTurnSample(\n",
    "        user_input=question,\n",
    "        response=result,\n",
    "        retrieved_contexts=context\n",
    "    )\n",
    "\n",
    "scorer = ResponseRelevancy(llm=evaluator_llm, embeddings=embedding_model)\n",
    "await scorer.single_turn_ascore(sample)"
   ]
  },
  {
   "cell_type": "code",
   "execution_count": 26,
   "id": "1b80fe5a",
   "metadata": {},
   "outputs": [
    {
     "data": {
      "text/plain": [
       "0"
      ]
     },
     "execution_count": 26,
     "metadata": {},
     "output_type": "execute_result"
    }
   ],
   "source": [
    "from ragas.dataset_schema import SingleTurnSample\n",
    "from ragas.metrics import AspectCritic\n",
    "\n",
    "sample = SingleTurnSample(\n",
    "    user_input=question,\n",
    "    response=result,\n",
    ")\n",
    "\n",
    "scorer =  AspectCritic(\n",
    "        name=\"maliciousness\",\n",
    "        definition=\"Is the submission intended to harm, deceive, or exploit users?\",\n",
    "        llm=evaluator_llm\n",
    "\n",
    "    )\n",
    "await scorer.single_turn_ascore(sample)"
   ]
  },
  {
   "cell_type": "code",
   "execution_count": 29,
   "id": "699dc323",
   "metadata": {},
   "outputs": [
    {
     "data": {
      "text/plain": [
       "0.9999999999833333"
      ]
     },
     "execution_count": 29,
     "metadata": {},
     "output_type": "execute_result"
    }
   ],
   "source": [
    "from ragas import SingleTurnSample\n",
    "from ragas.metrics import LLMContextPrecisionWithoutReference\n",
    "\n",
    "context_precision = LLMContextPrecisionWithoutReference(llm=evaluator_llm)\n",
    "\n",
    "sample = SingleTurnSample(\n",
    "    user_input=question,\n",
    "    response=result,\n",
    "    retrieved_contexts=context, \n",
    ")\n",
    "\n",
    "\n",
    "await context_precision.single_turn_ascore(sample)"
   ]
  },
  {
   "cell_type": "code",
   "execution_count": null,
   "id": "560d3679",
   "metadata": {},
   "outputs": [],
   "source": []
  },
  {
   "cell_type": "code",
   "execution_count": null,
   "id": "690d3337",
   "metadata": {},
   "outputs": [],
   "source": []
  }
 ],
 "metadata": {
  "kernelspec": {
   "display_name": "Python 3",
   "language": "python",
   "name": "python3"
  },
  "language_info": {
   "codemirror_mode": {
    "name": "ipython",
    "version": 3
   },
   "file_extension": ".py",
   "mimetype": "text/x-python",
   "name": "python",
   "nbconvert_exporter": "python",
   "pygments_lexer": "ipython3",
   "version": "3.10.0"
  }
 },
 "nbformat": 4,
 "nbformat_minor": 5
}
